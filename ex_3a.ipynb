{
 "cells": [
  {
   "cell_type": "markdown",
   "metadata": {},
   "source": [
    "# The instability of numerical codes: symptoms"
   ]
  },
  {
   "attachments": {},
   "cell_type": "markdown",
   "metadata": {},
   "source": [
    "test"
   ]
  },
  {
   "cell_type": "markdown",
   "metadata": {},
   "source": [
    "The instability of numerical schemes and codes is one of the critical problems that a researcher using numerical experimentation may encounter. In this exercise, we are going to see how violent numerical instabilities can be."
   ]
  },
  {
   "cell_type": "markdown",
   "metadata": {},
   "source": [
    "## 1 – Numerical instability: violent development"
   ]
  },
  {
   "cell_type": "code",
   "execution_count": null,
   "metadata": {},
   "outputs": [],
   "source": [
    "import numpy as np \n",
    "import matplotlib.pyplot as plt \n",
    "from nm_lib import nm_lib as nm\n",
    "from matplotlib.animation import FuncAnimation\n",
    "from IPython.display import HTML"
   ]
  },
  {
   "cell_type": "markdown",
   "metadata": {},
   "source": [
    "1. Repeat the numerical simulation carried out __in exercise [ex_2a](https://github.com/AST-Course/AST5110/blob/main/ex_2a.ipynb)__, but now take $a = 1$ (it was $a = −1$); (use a moderate number of intervals, like, e.g., 128). Check out what happens. After how many timesteps does instability become evident?\n",
    "\n",
    "Repeat the experiment with 1024 points (and afterward with any other power of 2 you may want to use). Is the experiment stable now? After how many timesteps does the instability become evident now?\n",
    "\n",
    "2. Still for $a = 1$, use for the spatial differentiation backward finite differencing, i.e.:"
   ]
  },
  {
   "attachments": {},
   "cell_type": "markdown",
   "metadata": {},
   "source": [
    "$$\\left(\\frac{\\partial u}{\\partial x}\\right)_{x=x_i} \\rightarrow \\frac{u_i-u_{i-1}}{\\Delta x}  \\tag{1}$$"
   ]
  },
  {
   "attachments": {},
   "cell_type": "markdown",
   "metadata": {},
   "source": [
    "Fill in the `nm_lib` function `deriv_upw`, and use the `lambda` function `ddx` and select the proper limits for `bnd_limits`. "
   ]
  },
  {
   "attachments": {},
   "cell_type": "markdown",
   "metadata": {},
   "source": [
    "__taking care of also changing the implementation of the boundary condition.__ Does the unstable character of the code change?"
   ]
  },
  {
   "attachments": {},
   "cell_type": "markdown",
   "metadata": {},
   "source": [
    "**1)**"
   ]
  },
  {
   "cell_type": "code",
   "execution_count": null,
   "metadata": {},
   "outputs": [],
   "source": [
    "x0 = -2.6\n",
    "xf = 2.6 \n",
    "\n",
    "nint = 128 \n",
    "nump = nint +1 \n",
    "\n",
    "x = np.linspace(x0, xf, nump)\n",
    "\n",
    "a = 1\n",
    "\n",
    "def initial_u(xx):\n",
    "    r\"\"\"\n",
    "    Return the initial function from exercise 2b\n",
    "    \n",
    "    Requires\n",
    "    ----------\n",
    "    Numpy\n",
    "\n",
    "    Parameters\n",
    "    ----------\n",
    "    x : `array`\n",
    "        Spatial array\n",
    "\n",
    "    Returns\n",
    "    ------- \n",
    "    u_0(xx) : `array`\n",
    "            Initial function of u(x)\n",
    "        \n",
    "    \"\"\"\n",
    "    return np.cos(6*np.pi*xx/5)**2/np.cosh(5*xx**2)\n",
    "\n",
    "u0 = initial_u(x)\n",
    "\n",
    "nt = 100\n",
    "t, un = nm.evolv_adv_burgers(x, u0, nt,a,ddx=nm.deriv_dnw, bnd_limits=[0,1])"
   ]
  },
  {
   "cell_type": "code",
   "execution_count": null,
   "metadata": {},
   "outputs": [],
   "source": [
    "plt.ioff()\n",
    "\n",
    "fig, axes = plt.subplots(nrows=1, ncols=1, figsize=(10, 5))\n",
    "\n",
    "def init(): \n",
    "    axes.plot(x,un[:,0])\n",
    "\n",
    "def animate(i):\n",
    " \n",
    "    axes.clear()\n",
    "    axes.plot(x,un[:,i])\n",
    "    axes.set_title('t=%.2f'%t[i])\n",
    "    axes.set_xlabel(\"x\")\n",
    "    axes.set_ylabel(\"u_i\")\n",
    "    axes.grid()\n",
    "    \n",
    "    \n",
    "anim = FuncAnimation(fig, animate, interval=50, frames=nt, init_func=init)\n",
    "HTML(anim.to_jshtml())"
   ]
  },
  {
   "cell_type": "code",
   "execution_count": null,
   "metadata": {},
   "outputs": [],
   "source": [
    "plt.close()"
   ]
  },
  {
   "attachments": {},
   "cell_type": "markdown",
   "metadata": {},
   "source": [
    "We see that, after only around 0.04 seconds, the peak on the left side starts to increase its amplitude, while the dip between it and the largest peak is reaching further down. The instability seem to become evident after very short time, as we can clearly see a different by jumping one time step."
   ]
  },
  {
   "cell_type": "code",
   "execution_count": null,
   "metadata": {},
   "outputs": [],
   "source": [
    "nint2 = 1024\n",
    "nump2 = nint2 +1\n",
    "\n",
    "x2 = np.linspace(x0, xf, nump2)\n",
    "\n",
    "u02 = initial_u(x2)\n",
    "\n",
    "nt2 = 100\n",
    "t2, un2 = nm.evolv_adv_burgers(x2, u02, nt2,a,ddx=nm.deriv_dnw, bnd_limits=[0,1])"
   ]
  },
  {
   "cell_type": "code",
   "execution_count": null,
   "metadata": {},
   "outputs": [],
   "source": [
    "plt.ioff()\n",
    "\n",
    "fig, axes = plt.subplots(nrows=1, ncols=1, figsize=(10, 5))\n",
    "\n",
    "def init(): \n",
    "    axes.plot(x2,un2[:,0])\n",
    "\n",
    "def animate(i):\n",
    " \n",
    "    axes.clear()\n",
    "    axes.plot(x2,un2[:,i])\n",
    "    axes.set_title('t=%.2f'%t2[i])\n",
    "    axes.set_xlabel(\"x\")\n",
    "    axes.set_ylabel(\"u_i\")\n",
    "    axes.grid()\n",
    "    \n",
    "anim = FuncAnimation(fig, animate, interval=50, frames=nt, init_func=init)\n",
    "HTML(anim.to_jshtml())"
   ]
  },
  {
   "cell_type": "code",
   "execution_count": null,
   "metadata": {},
   "outputs": [],
   "source": [
    "plt.close()"
   ]
  },
  {
   "attachments": {},
   "cell_type": "markdown",
   "metadata": {},
   "source": [
    "Now that we have increased the number of points, with `nump = 1024`, the function seem to be more stable. The instability is not evident until we have reached 0.15 seconds, which is longer than in the previous case. \n",
    "\n",
    "However, in the case with 128 points, it did not \"crash\" completely after the first step, but seemed to start becoming more unstable. Due to the increased number of points in the last case, it seems to become more unstable faster when reaching the 0.15 second mark. \n",
    "\n",
    "Due to the increased number of points, the solution is more unstable than for 128 points when comparing the solutions at same times, not time steps. This is visible from the shape of the functions, but also from how much larger the amplitude of the last simulation is compared to the first simulation. This is due to the instability affecting more points in the last case, and it therefore \"crashes\" a lot faster than in the first case. "
   ]
  },
  {
   "cell_type": "markdown",
   "metadata": {},
   "source": [
    "## 2 – Centered differences"
   ]
  },
  {
   "cell_type": "markdown",
   "metadata": {},
   "source": [
    "Use now for the spatial derivation _centered finite differences_, i.e.:"
   ]
  },
  {
   "cell_type": "markdown",
   "metadata": {},
   "source": [
    "$$\\left(\\frac{\\partial u}{\\partial x}\\right)_{x=x_i} \\rightarrow \\frac{u_{i+1}-u_{i-1}}{2\\Delta x}   \\tag{2}$$"
   ]
  },
  {
   "cell_type": "markdown",
   "metadata": {},
   "source": [
    "(and see the note on boundary conditions below). Fill in `nm_lib` the function `deriv_cent`, and like in the previous case, use the `lambda` function `ddx` and select the proper limits for `bnd_limits`. Use `cfl_cut=0.3`. Is any instability apparent in this case? Does the situation change when you change the sign of the constant $a$?\n",
    "\n",
    "Note: In this case, the periodicity boundary condition can be implemented as follows: define $xx$ so that the endpoint $x = x_0$ of the domain coincides with $xx[1]$ (i.e., the second component of the array) and the endpoint $x = x_f$ coincides with the last element in the array [i.e., $xx[nump-1]$]. For the boundary condition, you can do the following: assume you are calling $uun$ the array at time $t + \\Delta t$. Then the boundary condition is imposed by specifying $uun[0] = uun[nump-2]$ and $uun[nump-1] = uun[1]$."
   ]
  },
  {
   "cell_type": "code",
   "execution_count": null,
   "metadata": {},
   "outputs": [],
   "source": [
    "nint = 128 \n",
    "nump = nint +1 \n",
    "\n",
    "x = np.linspace(x0, xf, nump)\n",
    "\n",
    "a = 1\n",
    "\n",
    "u0 = initial_u(x)\n",
    "\n",
    "nt = 100\n",
    "t, un = nm.evolv_adv_burgers(x, u0, nt,a, cfl_cut=0.3, ddx=nm.deriv_cent, bnd_limits=[1,1])\n"
   ]
  },
  {
   "cell_type": "code",
   "execution_count": null,
   "metadata": {},
   "outputs": [],
   "source": [
    "plt.ioff()\n",
    "\n",
    "fig, axes = plt.subplots(nrows=1, ncols=1, figsize=(10, 5))\n",
    "\n",
    "def init(): \n",
    "    axes.plot(x,un[:,0])\n",
    "\n",
    "def animate(i):\n",
    " \n",
    "    axes.clear()\n",
    "    axes.plot(x,un[:,i])\n",
    "    axes.set_title('t=%.2f'%t[i])\n",
    "    axes.set_xlabel(\"x\")\n",
    "    axes.set_ylabel(\"u_i\")\n",
    "    axes.grid()\n",
    "    \n",
    "anim = FuncAnimation(fig, animate, interval=50, frames=nt, init_func=init)\n",
    "HTML(anim.to_jshtml())"
   ]
  },
  {
   "cell_type": "code",
   "execution_count": null,
   "metadata": {},
   "outputs": [],
   "source": [
    "plt.close()"
   ]
  },
  {
   "cell_type": "code",
   "execution_count": null,
   "metadata": {},
   "outputs": [],
   "source": [
    "a  = -1\n",
    "t, un = nm.evolv_adv_burgers(x, u0, nt,a, cfl_cut=0.3, ddx=nm.deriv_cent, bnd_limits=[1,1])"
   ]
  },
  {
   "cell_type": "code",
   "execution_count": null,
   "metadata": {},
   "outputs": [],
   "source": [
    "plt.ioff()\n",
    "\n",
    "fig, axes = plt.subplots(nrows=1, ncols=1, figsize=(10, 5))\n",
    "\n",
    "def init(): \n",
    "    axes.plot(x,un[:,0])\n",
    "\n",
    "def animate(i):\n",
    " \n",
    "    axes.clear()\n",
    "    axes.plot(x,un[:,i])\n",
    "    axes.set_title('t=%.2f'%t[i])\n",
    "    axes.set_xlabel(\"x\")\n",
    "    axes.set_ylabel(\"u_i\")\n",
    "    axes.grid()\n",
    "    \n",
    "anim = FuncAnimation(fig, animate, interval=50, frames=nt, init_func=init)\n",
    "HTML(anim.to_jshtml())"
   ]
  },
  {
   "cell_type": "code",
   "execution_count": null,
   "metadata": {},
   "outputs": [],
   "source": [
    "plt.close()"
   ]
  },
  {
   "attachments": {},
   "cell_type": "markdown",
   "metadata": {},
   "source": [
    "When implementing the centered scheme, we notice the function still becomes unstable, but it does not seem to happen as fast as with the previous scheme. In the previous scheme, using 128 points, we see the same instability that occur with the central scheme after about 20 seconds. The central scheme is still unstable, but with the same x-axis it seems to be stable longer than when using the downwind scheme. \n",
    "\n",
    "\n",
    "Changing the sign of a does not make the function more stable, but rather changes its direction when evolving in time. "
   ]
  },
  {
   "cell_type": "markdown",
   "metadata": {},
   "source": [
    "## 3 – The stability of the non-centered finite-differences schemes"
   ]
  },
  {
   "cell_type": "markdown",
   "metadata": {},
   "source": [
    "In the previous exercises, we saw that when $a > 0$, a _backward-oriented_ finite-difference scheme yields stability. However, a crucial component in the problem was to give a specific value for $\\Delta t$, namely  $t = 0.98 x/|a|$. Would it have been wise to choose a larger or smaller $\\Delta t$? Let us check that $\\Delta t$ cannot be chosen arbitrarily large: run the program, but now writing"
   ]
  },
  {
   "cell_type": "markdown",
   "metadata": {},
   "source": [
    "1. $\\Delta t = 0.5 \\frac{\\Delta x}{a}$;\n",
    "2. $\\Delta t = 0.99 \\frac{\\Delta x}{a}$;\n",
    "3. $\\Delta t = 1.01 \\frac{\\Delta x}{a}$;\n",
    "4. $\\Delta t = 2 \\frac{\\Delta x}{a}$;"
   ]
  },
  {
   "cell_type": "markdown",
   "metadata": {},
   "source": [
    "and check if those values maintain the good stability properties of the code. For example, does there seem to be a threshold in $\\Delta t$ for the instability? Note that you need to define `cfl_cut` to 0.5, 0.99, 1.01, and 2.0."
   ]
  },
  {
   "cell_type": "code",
   "execution_count": null,
   "metadata": {},
   "outputs": [],
   "source": [
    "nint3 = 128 \n",
    "nump3 = nint +1 \n",
    "\n",
    "x3 = np.linspace(x0, xf, nump)\n",
    "\n",
    "a = -1\n",
    "\n",
    "u03 = initial_u(x3)"
   ]
  },
  {
   "cell_type": "code",
   "execution_count": null,
   "metadata": {},
   "outputs": [],
   "source": [
    "nt = 1000\n",
    "t3_05, un3_05 = nm.evolv_adv_burgers(x, u03, nt,a, cfl_cut=0.5)\n",
    "\n",
    "plt.ioff()\n",
    "\n",
    "fig, axes = plt.subplots(nrows=1, ncols=1, figsize=(10, 5))\n",
    "\n",
    "def init(): \n",
    "    axes.plot(x3,un3_05[:,0])\n",
    "\n",
    "def animate(i):\n",
    "\n",
    "    axes.clear()\n",
    "    axes.plot(x3,un3_05[:,::10][:,i])\n",
    "    axes.set_title('t=%.2f, cfl_cut = 0.5'%t3_05[::10][i])\n",
    "    axes.set_xlabel(\"x\")\n",
    "    axes.set_ylabel(\"u_i\")\n",
    "    axes.grid()\n",
    "    \n",
    "anim = FuncAnimation(fig, animate, interval=50, frames=len(t3_05[::10]), init_func=init)\n",
    "HTML(anim.to_jshtml())\n",
    "    "
   ]
  },
  {
   "cell_type": "code",
   "execution_count": null,
   "metadata": {},
   "outputs": [],
   "source": [
    "plt.close()"
   ]
  },
  {
   "cell_type": "code",
   "execution_count": null,
   "metadata": {},
   "outputs": [],
   "source": [
    "nt = 1000\n",
    "t3_99, un3_99 = nm.evolv_adv_burgers(x, u0, nt,a, cfl_cut=0.99)\n",
    "\n",
    "plt.ioff()\n",
    "\n",
    "fig, axes = plt.subplots(nrows=1, ncols=1, figsize=(10, 5))\n",
    "\n",
    "def init(): \n",
    "    axes.plot(x3,un3_99[:,0])\n",
    "\n",
    "def animate(i):\n",
    "\n",
    "    axes.clear()\n",
    "    axes.plot(x3,un3_99[:,::10][:,i])\n",
    "    axes.set_title('t=%.2f, cfl_cut = 0.99'%t3_99[::10][i])\n",
    "    axes.set_xlabel(\"x\")\n",
    "    axes.set_ylabel(\"u_i\")\n",
    "    axes.grid()\n",
    "    \n",
    "anim = FuncAnimation(fig, animate, interval=50, frames=len(t3_99[::10]), init_func=init)\n",
    "HTML(anim.to_jshtml())"
   ]
  },
  {
   "cell_type": "code",
   "execution_count": null,
   "metadata": {},
   "outputs": [],
   "source": [
    "plt.close()"
   ]
  },
  {
   "cell_type": "code",
   "execution_count": null,
   "metadata": {},
   "outputs": [],
   "source": [
    "nt = 1000\n",
    "t3_101, un3_101 = nm.evolv_adv_burgers(x, u0, nt,a, cfl_cut=1.01)\n",
    "\n",
    "plt.ioff()\n",
    "\n",
    "fig, axes = plt.subplots(nrows=1, ncols=1, figsize=(10, 5))\n",
    "\n",
    "def init(): \n",
    "    axes.plot(x3,un3_101[:,0])\n",
    "\n",
    "def animate(i):\n",
    "\n",
    "    axes.clear()\n",
    "    axes.plot(x3,un3_101[:,::10][:,i])\n",
    "    axes.set_title('t=%.2f, cfl_cut = 1.01'%t3_101[::10][i])\n",
    "    axes.set_xlabel(\"x\")\n",
    "    axes.set_ylabel(\"u_i\")\n",
    "    axes.grid()\n",
    "    \n",
    "anim = FuncAnimation(fig, animate, interval=50, frames=len(t3_101[::10]), init_func=init)\n",
    "HTML(anim.to_jshtml())"
   ]
  },
  {
   "cell_type": "code",
   "execution_count": null,
   "metadata": {},
   "outputs": [],
   "source": [
    "plt.close()"
   ]
  },
  {
   "cell_type": "code",
   "execution_count": null,
   "metadata": {},
   "outputs": [],
   "source": [
    "nt = 1000\n",
    "t3_2, un3_2 = nm.evolv_adv_burgers(x, u0, nt,a, cfl_cut=2)\n",
    "\n",
    "plt.ioff()\n",
    "\n",
    "fig, axes = plt.subplots(nrows=1, ncols=1, figsize=(10, 5))\n",
    "\n",
    "def init(): \n",
    "    axes.plot(x3,un3_2[:,0])\n",
    "\n",
    "def animate(i):\n",
    "\n",
    "    axes.clear()\n",
    "    axes.plot(x3,un3_2[:,::10][:,i])\n",
    "    axes.set_title('t=%.2f, cfl_cut = 2.0'%t3_2[::10][i])\n",
    "    axes.set_xlabel(\"x\")\n",
    "    axes.set_ylabel(\"u_i\")\n",
    "    axes.grid()\n",
    "    \n",
    "anim = FuncAnimation(fig, animate, interval=50, frames=len(t3_2[::10]), init_func=init)\n",
    "HTML(anim.to_jshtml())"
   ]
  },
  {
   "cell_type": "code",
   "execution_count": null,
   "metadata": {},
   "outputs": [],
   "source": [
    "plt.close()"
   ]
  },
  {
   "attachments": {},
   "cell_type": "markdown",
   "metadata": {},
   "source": [
    "In the four cases above, we set the number of time steps, nt, to be 1000, with the animation showing only each 10 steps. This way we can study the evolution of our function over a longer time, without spending too much time running the notebook. \n",
    "\n",
    "In the case of $\\Delta t = 0.5 \\frac{\\Delta x}{a}$, we notice the solution being unstable and more diffusive than in the previous cases. Even after the first second we notice the amplitude is lower and the function is more \"spread out\". For the largest value, $\\Delta t = 2 \\frac{\\Delta x}{a}$, the solution is also unstable, which is noticeable after one time step. In this case, the amplitude increases a lot as the time evolves, making the solution quite unstable. \n",
    "However, in the cases of $\\Delta t = 0.99 \\frac{\\Delta x}{a}$ and $\\Delta t = 1.01 \\frac{\\Delta x}{a}$, the solutions seem to be more stable. In the case of $\\Delta t = 0.99 \\frac{\\Delta x}{a}$, we notice the diffusive behavior from the first case, but not to the same degree. Here, the amplitude does not change as much over the same period of time. \n",
    "Using $\\Delta t = 1.01 \\frac{\\Delta x}{a}$, we also see the amplitudes slowly changing as in the previous case. \n",
    "\n",
    "There seem to be a threshold for $\\Delta t$, as we need the `cfl_cut` to be smaller than 1, but this seems to also make the solutions more diffusive. "
   ]
  },
  {
   "cell_type": "markdown",
   "metadata": {},
   "source": [
    "## 4- Optional (A). \n",
    "\n",
    "Consider now the following Burgers’ equation, i.e.,\n",
    "\n",
    "$$\\frac{\\partial u}{\\partial t} + u \\frac{\\partial u}{\\partial x} = 0   \\tag{3}$$\n",
    "\n",
    "can be seen as yet another case of the equation solved in the previous exercises of this\n",
    "series by writing:\n",
    "\n",
    "$$a(x,t,u) = u  \\tag{4}$$\n",
    "\n",
    "The importance of this equation in physics derives in part from the fact that it describes\n",
    "the motion of a non-accelerated fluid with an arbitrary velocity field at time $t = 0$ and\n",
    "because it contains the possibility of spontaneous formation of discontinuities. (\\*)\n",
    "\n",
    "We can simply solve equation (1) by modifying the program developed for the previous exercises but now writing $a(x_i, t^n) = u^n_i$. Carry out that modification, and run the program in the domain $x \\in (x_0, x_f)$ with $x_0 = −1.4$, $x_f = 2.0$ with the initial condition:\n",
    "\n",
    "$$u(x,t=0) = A\\left[\\tanh\\left(\\frac{x+x_c}{W}\\right)-\\tanh\\left(\\frac{x-x_c}{W}\\right) \\right] + B \\tag{5}$$\n",
    "\n",
    "whereby $A = 1.0$, $x_c = 0.70$, $W = 0.1$, $B = 0.3$. Let the solution evolve until time $t_f = 100$. Explain in physical (or mathematical) terms the solution you get. Change to $A = −0.02$ and explain the result. For this exercise, fill in `nm_lib` functions `evolv_uadv_burgers` and `step_uadv_burgers`. "
   ]
  },
  {
   "cell_type": "markdown",
   "metadata": {},
   "source": [
    "### Comments:\n",
    "\n",
    "In the numerical solution, we see the initial condition patently evolving into something that looks like a discontinuity. We understand that this discontinuity is formed because the characteristic curves $dx_p/dt = a(x, t, u) = u$ are more inclined (i.e., faster) in a spacetime diagram when starting at elements with larger $u$: since the solution is constant along those curves, the faster elements, therefore, catch those in front of them which have lower $u$ (as is the case in the solution you have found numerically here) – so the solution must steepen when that happens.\n",
    "\n",
    "Mathematically and physically, we should not be too surprised: we know that, for instance, in gas dynamics, weird nonlinear phenomena take place, some of which (the shocks) have to do with the formation of discontinuities or sharp transitions. Numerically, though, we ought to be rather surprised for various reasons:\n",
    "    \n",
    "a. the numerical calculation of a very large value of the derivative (as is surely the case across the big jump forming in our calculation) cannot be very accurate. It might even happen, we think, that the program crashed because of _NaNs_ or exceptions, etc, occurring in the calculation. But, in fact, our program happily calculates away ... seemingly forever.\n",
    "\n",
    "b. when a discontinuity forms, the exact mathematical solution, strictly speaking, cannot be calculated in a simple way anymore: when there is a discontinuity, one must take into account what is called the jump relations, also called internal boundary conditions, across the discontinuity: they give the mutual relation of the variables on either side of the discontinuity. A solution obtained in this way is called a __weak solution__ in mathematics.\n",
    "\n",
    "c. we finally ask ourselves what the mathematically-exact weak solution would be in this case and whether our simple numerical scheme provides a solution near the exact one despite the obvious difficulty of handling large jumps across the near-discontinuity.\n",
    "\n",
    "We have to leave these as open questions for discussion at a later point. \n",
    "\n",
    "As a final comment, consider the consequences of the fact that the acceleration in gas dynamics contains a term of the general form $u$ $du/dx$ .... Much of the beautiful physics occurring in the universe is due to non-linearities like this one."
   ]
  },
  {
   "cell_type": "markdown",
   "metadata": {},
   "source": [
    "## 4- Optional (B) \n",
    "\n",
    "For this exercise, do first [ex_4a](https://github.com/AST-Course/AST5110/blob/main/ex_4a.ipynb). \n",
    "Consider the same setup as the previous exercise. But now, solve it using the upwind method: \n",
    "\n",
    "$$u^{n+1}_j = u^{n}_j - \\frac{\\Delta t}{\\Delta x} u^{n}_j(u^{n}_j- u^{n}_{j+1})$$\n",
    "\n",
    "And using the Lax method implemented in [ex_4a](https://github.com/AST-Course/AST5110/blob/main/ex_4a.ipynb). What do you see? Argue why you think the solution is not correct. __Hint__ In the first exercise, we disccused about flux conservation."
   ]
  },
  {
   "cell_type": "markdown",
   "metadata": {},
   "source": [
    "### Comments:\n",
    "    \n",
    "See [Stagger mesh](https://github.com/AST-Course/AST5110/wiki/Staggered-mesh) documentation on how a staggered mesh allows keeping the conservation. "
   ]
  },
  {
   "cell_type": "code",
   "execution_count": null,
   "metadata": {},
   "outputs": [],
   "source": []
  },
  {
   "cell_type": "code",
   "execution_count": null,
   "metadata": {},
   "outputs": [],
   "source": []
  },
  {
   "cell_type": "code",
   "execution_count": null,
   "metadata": {},
   "outputs": [],
   "source": []
  },
  {
   "cell_type": "code",
   "execution_count": null,
   "metadata": {},
   "outputs": [],
   "source": []
  }
 ],
 "metadata": {
  "kernelspec": {
   "display_name": "Python 3",
   "language": "python",
   "name": "python3"
  },
  "language_info": {
   "codemirror_mode": {
    "name": "ipython",
    "version": 3
   },
   "file_extension": ".py",
   "mimetype": "text/x-python",
   "name": "python",
   "nbconvert_exporter": "python",
   "pygments_lexer": "ipython3",
   "version": "3.9.6"
  },
  "vscode": {
   "interpreter": {
    "hash": "e3ec12b9c70088f059f3baea05772a3a2c2889530d91a5824627bd51d661a52e"
   }
  }
 },
 "nbformat": 4,
 "nbformat_minor": 4
}
