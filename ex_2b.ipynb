{
 "cells": [
  {
   "cell_type": "markdown",
   "metadata": {},
   "source": [
    "# A first example of a numerical simulation"
   ]
  },
  {
   "attachments": {},
   "cell_type": "markdown",
   "metadata": {},
   "source": [
    "test"
   ]
  },
  {
   "cell_type": "markdown",
   "metadata": {},
   "source": [
    "In this exercise, you will conduct a first instance of numerical simulation of the time evolution of a system. We will solve an advection equation of the form"
   ]
  },
  {
   "cell_type": "markdown",
   "metadata": {},
   "source": [
    "$$\\frac{\\partial u}{\\partial t} + a \\frac{\\partial u}{\\partial x} = 0  \\tag{1}$$"
   ]
  },
  {
   "cell_type": "markdown",
   "metadata": {},
   "source": [
    "with $a$ being a __constant__. In subsequent exercises, more general cases will be considered, with $a$ no longer constant."
   ]
  },
  {
   "cell_type": "markdown",
   "metadata": {},
   "source": [
    "## 1 – The $a = const$ case: the mathematical problem"
   ]
  },
  {
   "cell_type": "markdown",
   "metadata": {},
   "source": [
    "We would like to solve equation (1) numerically for $x  [x_0, x_f]$ with $x_0 = −2.6$, $x_f = 2.6$, periodic boundary conditions and with the initial condition:"
   ]
  },
  {
   "cell_type": "markdown",
   "metadata": {},
   "source": [
    "$$u(x,t=t_0) = \\cos^2 \\left(\\frac{6 \\pi x}{5} \\right) / \\cosh(5x^2) \\tag{2}$$"
   ]
  },
  {
   "cell_type": "markdown",
   "metadata": {},
   "source": [
    "We start by representing that function in the given interval."
   ]
  },
  {
   "cell_type": "code",
   "execution_count": null,
   "metadata": {},
   "outputs": [],
   "source": [
    "# importing libraries\n",
    "import numpy as np \n",
    "import matplotlib.pyplot as plt \n",
    "from nm_lib import nm_lib as nm\n"
   ]
  },
  {
   "cell_type": "code",
   "execution_count": null,
   "metadata": {},
   "outputs": [],
   "source": [
    "nint = 64\n",
    "nump = nint +1 \n",
    "\n",
    "\n",
    "x0 = -2.6\n",
    "xf = 2.6 \n",
    "x = np.linspace(x0, xf, nump)\n",
    "\n",
    "\n",
    "def initial_u(xx):\n",
    "\n",
    "    r\"\"\"\n",
    "    Computing the initial condition of u_i\n",
    "    \n",
    "    Requires\n",
    "    ----------\n",
    "    Numpy\n",
    "\n",
    "    Parameters\n",
    "    ----------\n",
    "    xx : `array`\n",
    "        Spatial array\n",
    "\n",
    "    Returns\n",
    "    ------- \n",
    "    initial condition : `array`\n",
    "        initial condition of u_i\n",
    "    \"\"\"\n",
    "\n",
    "    return np.cos(6*np.pi*xx/5)**2/np.cosh(5*xx**2)\n",
    "\n",
    "\n",
    "u0 = initial_u(x)"
   ]
  },
  {
   "cell_type": "code",
   "execution_count": null,
   "metadata": {},
   "outputs": [],
   "source": [
    "plt.plot(x,u0)\n",
    "\n",
    "plt.title(\"Initial condition\")\n",
    "plt.xlabel(\"x\")\n",
    "plt.ylabel(\"u_0\")\n",
    "plt.show()"
   ]
  },
  {
   "cell_type": "markdown",
   "metadata": {},
   "source": [
    "## 2 – Spatial derivative."
   ]
  },
  {
   "cell_type": "markdown",
   "metadata": {},
   "source": [
    "We discretize the initial condition by subdividing the spatial domain into $nint=64$ equal intervals. The function will therefore be sampled with $nump=65$ points, namely $(u_0, u_1, u_2, ... , u_{nump−1})$ at equidistant values of the abscissa, $(x_0, x_1, x_2, ..., x_{nump−1})$. Let us calculate the spatial derivative of the function through non-centered finite differences of the form:"
   ]
  },
  {
   "cell_type": "markdown",
   "metadata": {},
   "source": [
    "$$\\left(\\frac{\\partial u}{\\partial x}\\right)_{x=x_i} \\rightarrow \\frac{u_{i+1}-u_{i}}{\\Delta x}  \\tag{3}$$"
   ]
  },
  {
   "cell_type": "markdown",
   "metadata": {},
   "source": [
    "On the basis of the experience gained with the previous batch of exercises (ex. 1), which order of approximation can we expect now for the calculation of the derivative since we are using non-centered finite differences?"
   ]
  },
  {
   "cell_type": "code",
   "execution_count": null,
   "metadata": {},
   "outputs": [],
   "source": [
    "dudx = nm.deriv_dnw(x, u0)"
   ]
  },
  {
   "cell_type": "code",
   "execution_count": null,
   "metadata": {},
   "outputs": [],
   "source": [
    "plt.plot(x,dudx)\n",
    "\n",
    "plt.title(\"Spatial derivative\")\n",
    "plt.xlabel(\"x\")\n",
    "plt.ylabel(\"du/dx\")\n",
    "plt.show()"
   ]
  },
  {
   "attachments": {},
   "cell_type": "markdown",
   "metadata": {},
   "source": [
    "Since we are using the upwind scheme for calculating the derivative, we expect the order of approximation to be 2 as it is similar to the downwind scheme we used earlier."
   ]
  },
  {
   "cell_type": "markdown",
   "metadata": {},
   "source": [
    "## 3 – Time advance."
   ]
  },
  {
   "cell_type": "markdown",
   "metadata": {},
   "source": [
    "We want to calculate an approximation to the value of the function at times later than $t = t_0$, for instance, at time $t_0 + \\Delta t$. To that end, we carry out a discretization of the time axis, calculating approximate values for the time derivative as follows:"
   ]
  },
  {
   "cell_type": "markdown",
   "metadata": {},
   "source": [
    "$$\\left(\\frac{\\partial u}{\\partial t}\\right)_{\\underset{t=t_0}{x=x_i}} \\rightarrow \\frac{u_i(t_0 + \\Delta t)-u_i(t_0)}{\\Delta t}\\tag{4}$$"
   ]
  },
  {
   "cell_type": "markdown",
   "metadata": {},
   "source": [
    "Using now the differential equation (1) and expression (3), we can calculate an approximate value for the function $u$ at $x_i$ and time $t_0 + \\Delta t$ as follows:"
   ]
  },
  {
   "cell_type": "markdown",
   "metadata": {},
   "source": [
    "$$u_i(t_0+\\Delta t) = u_i(t_0) - a \\frac{u_{i+1}(t_0) - u_i(t_0)}{\\Delta x}\\Delta t  \\tag{5}$$"
   ]
  },
  {
   "cell_type": "markdown",
   "metadata": {},
   "source": [
    "Using (5), calculate $u_i$ at time $t_0 + \\Delta t$ at all points of the sample excluding the rightmost point (i.e., excluding $x_{nump−1}$). Use  $\\Delta t = 0.98 \\Delta x/|a|$ and a = −1. Fill in `nm_lib` the functions `step_adv_burgers` and `cfl_adv_burger`. "
   ]
  },
  {
   "cell_type": "code",
   "execution_count": null,
   "metadata": {},
   "outputs": [],
   "source": [
    "a = -1 \n",
    "dt, rhs = nm.step_adv_burgers(x, u0, a, ddx=nm.deriv_dnw)\n",
    "ui = u0 + rhs*dt"
   ]
  },
  {
   "cell_type": "code",
   "execution_count": null,
   "metadata": {},
   "outputs": [],
   "source": [
    "\n",
    "plt.plot(x,u0, label=r\"$u_0$\")\n",
    "plt.plot(x,ui, label=r\"$ u_i$ at $t_0 + \\Delta t$\")\n",
    "plt.xlabel(\"x\")\n",
    "plt.ylabel(\"u_i\")\n",
    "plt.legend()\n",
    "plt.show()"
   ]
  },
  {
   "attachments": {},
   "cell_type": "markdown",
   "metadata": {},
   "source": [
    "In the plot above, we show the curve from the initial condition as well as the result of a single step forward in time. We see that the curve is shifted towards left. We did this using the upwind scheme. "
   ]
  },
  {
   "cell_type": "markdown",
   "metadata": {},
   "source": [
    "## 4 – The boundaries."
   ]
  },
  {
   "cell_type": "markdown",
   "metadata": {},
   "source": [
    "To calculate the function at the rightmost point of the interval, we use a periodicity condition on $u$: $u_{nump−1}(t_0 + \\Delta t) = u_0(t_0 + \\Delta t)$. Consider cutting the ill-calculated (or missing) grid points and using `NumPy.pad` to add different boundary conditions. Use `wrap`"
   ]
  },
  {
   "attachments": {},
   "cell_type": "markdown",
   "metadata": {},
   "source": [
    "\n",
    "We implemented this directly in `evolv_adv_burger`, using `numpy.pad` and `wrap`\n"
   ]
  },
  {
   "cell_type": "markdown",
   "metadata": {},
   "source": [
    "## 5 – Subsequent steps in time."
   ]
  },
  {
   "cell_type": "markdown",
   "metadata": {},
   "source": [
    "Having calculated the values $u_i$, $i = 0, 1, 2, ...,nump−1,$ at time $t_0+\\Delta t$, we can carry out another step in time of size $\\Delta t$, following exactly the method just explained. In general, if we have calculated the value of the $u$ function at $x_i$ and time $n\\Delta t$, which we will call $u^n_i$, we can carry out the next step in time, of size $\\Delta t$, through the expression:"
   ]
  },
  {
   "cell_type": "markdown",
   "metadata": {},
   "source": [
    "$$u_i^{n+1} = u_i^n - a \\frac{u_{i+1}^n - u_i^n}{\\Delta x}\\Delta t  \\tag{6}$$"
   ]
  },
  {
   "cell_type": "markdown",
   "metadata": {},
   "source": [
    "Periodic boundary conditions must be applied, as explained in 4 above, to finish the calculation at each timestep. Fill in nm_lib the function `evolv_adv_burgers`. "
   ]
  },
  {
   "cell_type": "markdown",
   "metadata": {},
   "source": [
    "Carry out many steps in time so you can clearly understand the mathematical nature of the solution of the equation. For example, in Python, you can _matplotlib.animation_ to see the evolution. "
   ]
  },
  {
   "cell_type": "code",
   "execution_count": null,
   "metadata": {},
   "outputs": [],
   "source": [
    "nt = 300\n",
    "t, un = nm.evolv_adv_burgers(x, u0, nt,a, ddx=nm.deriv_dnw, bnd_limits=[0,1])"
   ]
  },
  {
   "cell_type": "code",
   "execution_count": null,
   "metadata": {},
   "outputs": [],
   "source": [
    "from matplotlib.animation import FuncAnimation\n",
    "from IPython.display import HTML\n",
    "\n",
    "plt.ioff()\n",
    "\n",
    "fig, axes = plt.subplots(nrows=1, ncols=1, figsize=(10, 5))\n",
    "\n",
    "def init(): \n",
    "    axes.plot(x,un[:,0])\n",
    "\n",
    "def animate(i):\n",
    " \n",
    "    axes.clear()\n",
    "    axes.plot(x,un[:,i])\n",
    "    axes.set_title('t=%.2f'%t[i])\n",
    "    axes.set_xlabel(\"x\")\n",
    "    axes.set_ylabel(\"u_i\")\n",
    "    \n",
    "anim = FuncAnimation(fig, animate, interval=50, frames=nt, init_func=init)\n",
    "HTML(anim.to_jshtml())\n"
   ]
  },
  {
   "cell_type": "code",
   "execution_count": null,
   "metadata": {},
   "outputs": [],
   "source": [
    "plt.close()"
   ]
  },
  {
   "attachments": {},
   "cell_type": "markdown",
   "metadata": {},
   "source": [
    "Using the upwind scheme, and the implemented `evolv_adv_burgers` function in `nm_lib.py`, we evolve our system further in time. Again we see the peaks moving towards left, as was first shown in task 3 with the single step. \n",
    "As the function evolves in time, we see the peaks becoming more and more diffuse. "
   ]
  },
  {
   "cell_type": "markdown",
   "metadata": {},
   "source": [
    "## 6 – Comparison with the exact solution."
   ]
  },
  {
   "cell_type": "markdown",
   "metadata": {},
   "source": [
    "Through one of the theory sessions, we know the exact solution of eq. (1) for the initial condition (2). Draw the exact solution on top of the numerical one using a dashed line. Then, explain the mathematical behavior of the solution. __Important note__: consider that the initial condition is eq (2) in $[x_0, x_f]$, _with periodic conditions at the boundaries_. In other words, the initial condition consists of an infinite repetition of the function (2) you represented between $[x_0, x_f]$ next to each other. Use this fact when comparing your numerical solution with the analytical one. __Hint__: if you consider points starting within the interval $(x_0, x_f)$ and moving with speed $a$, they will go outside the domain after some time. Use mod operator (\\% in Python) to bring them back into the domain respecting the periodicity of the problem or _numpy.pad_ to pad ghost points, i.e., points out of the numerical domain, which will allow defining the boundaries, at both ends of the numerical domain. NumPy.pad allows various types of boundaries."
   ]
  },
  {
   "cell_type": "markdown",
   "metadata": {},
   "source": [
    "Add a CI/CD pipeline to run this test and validate each push commit. This lets us know if a specific submitted change damages the existing code. For this, fill in ./github/workflows/test.yml"
   ]
  },
  {
   "cell_type": "code",
   "execution_count": null,
   "metadata": {},
   "outputs": [],
   "source": [
    "nt = 400\n",
    "t, un = nm.evolv_adv_burgers(x, u0, nt,a, ddx=nm.deriv_dnw, bnd_limits=[0,1])\n"
   ]
  },
  {
   "cell_type": "code",
   "execution_count": null,
   "metadata": {},
   "outputs": [],
   "source": [
    "def analytical(xx, nt, a, t): \n",
    "\n",
    "    r\"\"\"\n",
    "    Computes the analytical solution of Eq.(1)\n",
    "    \n",
    "    Requires\n",
    "    ----------\n",
    "    Numpy\n",
    "\n",
    "    Parameters\n",
    "    ----------\n",
    "    xx : `array`\n",
    "        spatial array.\n",
    "    nt : `array`\n",
    "        number of time steps\n",
    "    a : `float` or `array`\n",
    "        Either constant, or array which multiply the right hand side of the Burger's eq.\n",
    "    t : `array`\n",
    "        time\n",
    "\n",
    "    Returns\n",
    "    ------- \n",
    "    A : `array`\n",
    "        analytical solution with periodic boundaries\n",
    "    \"\"\"\n",
    "\n",
    "    A = np.zeros((len(xx), nt))\n",
    "    U = np.zeros((len(xx), nt))\n",
    "\n",
    "    for i in range(nt):\n",
    "        U[:,i] = (xx-a*t[i])\n",
    "\n",
    "        \"\"\"\n",
    "        The -a*t/5.2)[-1], in the following range is to round up how many times the \n",
    "        function \"passes the wall\". This way we know how many times we need to\n",
    "        wrap the analytical function\n",
    "        \"\"\"\n",
    "        for j in reversed(range(int(np.round(-a*t/5.2)[-1]))): \n",
    "            U[np.where(U[:,i] > 2.6+j*5.2)[0], i]  = U[np.where(U[:,i] > 2.6 + 5.2*j)[0], i] - (j+1)*5.2\n",
    "\n",
    "        A[:,i] = initial_u(U[:,i])\n",
    "\n",
    "    return A\n",
    "\n",
    "A = analytical(x, nt, a, t)"
   ]
  },
  {
   "cell_type": "code",
   "execution_count": null,
   "metadata": {},
   "outputs": [],
   "source": [
    "from matplotlib.animation import FuncAnimation\n",
    "from IPython.display import HTML\n",
    "\n",
    "plt.ioff()\n",
    "\n",
    "fig, axes = plt.subplots(nrows=1, ncols=1, figsize=(10, 5))\n",
    "\n",
    "def init(): \n",
    "    axes.plot(x,un[:,0])\n",
    "    axes.plot(x,A[:,0])\n",
    "\n",
    "def animate(i):\n",
    " \n",
    "    axes.clear()\n",
    "    axes.plot(x,un[:,i], label=\"Numerical\")\n",
    "    axes.plot(x,A[:,i], \"--\", label=\"Analytical\")\n",
    "    axes.set_title('t=%.2f'%t[i])\n",
    "    axes.set_xlabel(\"x\")\n",
    "    axes.set_ylabel(\"u_i\")\n",
    "    axes.legend()\n",
    "    \n",
    "anim = FuncAnimation(fig, animate, interval=50, frames=nt, init_func=init)\n",
    "HTML(anim.to_jshtml())"
   ]
  },
  {
   "cell_type": "code",
   "execution_count": null,
   "metadata": {},
   "outputs": [],
   "source": [
    "plt.close()"
   ]
  },
  {
   "attachments": {},
   "cell_type": "markdown",
   "metadata": {},
   "source": [
    "In the animation above, we show both the numerical and analytical solution as they evolve in time. While the analytical solution only shifts its position as the time goes, the numerical solution seems to flatten out and become more diffuse. This is noticeable from the amplitude of the peaks. \n",
    "\n",
    "Though I do not understand it completely, the numerical solution of the advective equation goes under \"Hyper Diffusive\" numerical schemes. This means the equation is difficult to solve numerically, as we can see from the deviation from the analytical solution, due to Numerical Diffusion. I think this could be due to different velocities within the medium, which makes the numerical solution more diffusive. "
   ]
  },
  {
   "cell_type": "markdown",
   "metadata": {},
   "source": [
    "## 7 – Resolution increase in space and time. "
   ]
  },
  {
   "cell_type": "markdown",
   "metadata": {},
   "source": [
    "Let us repeat the calculation of the previous paragraphs, increasing the number of space intervals by factors of 2. Check if the numerical solution gets increasingly close to the analytical solution. Important: the comparison must be made _for the same values of $x$ and $t$ for all resolutions you check_. Choose a fixed time when the traveling function has already gone through the whole domain a few times. "
   ]
  },
  {
   "attachments": {},
   "cell_type": "markdown",
   "metadata": {},
   "source": [
    "The comparison is made for time = 12 in all the different cases. For the spatial values, we compare the numerical and analytical solution at the central peak."
   ]
  },
  {
   "cell_type": "code",
   "execution_count": null,
   "metadata": {},
   "outputs": [],
   "source": [
    "nint_64 = 64\n",
    "nump_64 = nint_64 + 1\n",
    "nt_64 = 400\n",
    "\n",
    "x_64 = np.linspace(x0, xf, nump_64)\n",
    "u0_64 = initial_u(x_64)\n",
    "t_64, un_64 = nm.evolv_adv_burgers(x_64, u0_64, nt_64,a, ddx=nm.deriv_dnw, bnd_limits=[0,1])\n",
    "\n",
    "analytical_64 = analytical(x_64, nt_64, a, t_64)\n",
    "\n",
    "time = np.argmin(np.abs(t_64-12))\n",
    "peak = np.argmax(un_64[:,time])"
   ]
  },
  {
   "cell_type": "code",
   "execution_count": null,
   "metadata": {},
   "outputs": [],
   "source": [
    "nint_128 = 128\n",
    "nump_128 = nint_128 + 1\n",
    "nt_128 = 400\n",
    "\n",
    "x_128 = np.linspace(x0, xf, nump_128)\n",
    "u0_128 = initial_u(x_128)\n",
    "t_128, un_128 = nm.evolv_adv_burgers(x_128, u0_128, nt_128,a, ddx=nm.deriv_dnw, bnd_limits=[0,1])\n",
    "\n",
    "analytical_128 = analytical(x_128, nt_128, a, t_128)\n",
    "\n",
    "time_128 = np.argmin(np.abs(t_128-12))\n",
    "peak_128 = np.argmax(un_128[:,time_128])\n"
   ]
  },
  {
   "cell_type": "code",
   "execution_count": null,
   "metadata": {},
   "outputs": [],
   "source": [
    "nint_256 = 256 \n",
    "nump_256  = nint_256  + 1\n",
    "nt_256 = 650\n",
    "\n",
    "x_256  = np.linspace(x0, xf, nump_256 )\n",
    "u0_256 = initial_u(x_256)\n",
    "t_256 , un_256  = nm.evolv_adv_burgers(x_256 , u0_256 , nt_256 ,a, ddx=nm.deriv_dnw, bnd_limits=[0,1])\n",
    "\n",
    "analytical_256  = analytical(x_256 , nt_256 , a, t_256 )\n",
    "\n",
    "time_256  = np.argmin(np.abs(t_256 -12))\n",
    "peak_256  = np.argmax(un_256 [:,time_256 ])"
   ]
  },
  {
   "cell_type": "code",
   "execution_count": null,
   "metadata": {},
   "outputs": [],
   "source": [
    "nint_512 = 512\n",
    "nump_512  = nint_512  + 1\n",
    "nt_512 = 1250\n",
    "\n",
    "x_512  = np.linspace(x0, xf, nump_512 )\n",
    "u0_512 = initial_u(x_512)\n",
    "t_512 , un_512  = nm.evolv_adv_burgers(x_512 , u0_512 , nt_512 ,a, ddx=nm.deriv_dnw, bnd_limits=[0,1])\n",
    "\n",
    "analytical_512  = analytical(x_512 , nt_512 , a, t_512 )\n",
    "\n",
    "time_512  = np.argmin(np.abs(t_512 -12))\n",
    "peak_512  = np.argmax(un_512 [:,time_512 ])"
   ]
  },
  {
   "cell_type": "code",
   "execution_count": null,
   "metadata": {},
   "outputs": [],
   "source": [
    "diff_64 = np.abs(un_64[peak, time] - analytical_64[peak, time])\n",
    "diff_128 = np.abs(un_128[peak_128, time_128] - analytical_128[peak_128, time_128])\n",
    "diff_256 = np.abs(un_256[peak_256, time_256] - analytical_256[peak_256, time_256])\n",
    "diff_512 = np.abs(un_512[peak_512, time_512] - analytical_512[peak_512, time_512])\n",
    "\n",
    "print(\"Absolute difference, nint = 64: \", diff_64)\n",
    "print(\"Absolute difference, nint = 128: \", diff_128)\n",
    "print(\"Absolute difference, nint = 256: \", diff_256)\n",
    "print(\"Absolute difference, nint = 512: \", diff_512)"
   ]
  },
  {
   "attachments": {},
   "cell_type": "markdown",
   "metadata": {},
   "source": [
    "We see that when we increase the number of points (nump), the absolute difference between the numerical and analytical solution decreases as expected. We also see this in the plot below, where we compare the numerical solutions for the different `nump` values. Here we compare the numerical solutions to the analytical solution for `nint` = 512, which is the largest value we compare with. \n",
    "For the larger number of `nint/nump`, we see the numerical solution is closer to the analytical solution. "
   ]
  },
  {
   "cell_type": "code",
   "execution_count": null,
   "metadata": {},
   "outputs": [],
   "source": [
    "plt.plot(x_64, un_64[:, time], label=\"nint = 64\")\n",
    "plt.plot(x_128, un_128[:,time_128], label=\"nint = 128\")\n",
    "plt.plot(x_256, un_256[:,time_256], label=\"nint = 256\")\n",
    "plt.plot(x_512, un_512[:,time_512], label=\"nint = 512\")\n",
    "plt.plot(x_512, analytical_512[:,time_512], \"--\", label=\"analytical, nint = 512\")\n",
    "plt.title('t=%.2f'%t_512[time_512])\n",
    "plt.legend()\n",
    "plt.show()"
   ]
  },
  {
   "attachments": {},
   "cell_type": "markdown",
   "metadata": {},
   "source": []
  },
  {
   "cell_type": "code",
   "execution_count": null,
   "metadata": {},
   "outputs": [],
   "source": []
  },
  {
   "cell_type": "code",
   "execution_count": null,
   "metadata": {},
   "outputs": [],
   "source": []
  }
 ],
 "metadata": {
  "kernelspec": {
   "display_name": "Python 3",
   "language": "python",
   "name": "python3"
  },
  "language_info": {
   "codemirror_mode": {
    "name": "ipython",
    "version": 3
   },
   "file_extension": ".py",
   "mimetype": "text/x-python",
   "name": "python",
   "nbconvert_exporter": "python",
   "pygments_lexer": "ipython3",
   "version": "3.9.6"
  },
  "vscode": {
   "interpreter": {
    "hash": "e3ec12b9c70088f059f3baea05772a3a2c2889530d91a5824627bd51d661a52e"
   }
  }
 },
 "nbformat": 4,
 "nbformat_minor": 4
}
