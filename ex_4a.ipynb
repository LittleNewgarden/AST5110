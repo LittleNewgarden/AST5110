{
 "cells": [
  {
   "cell_type": "markdown",
   "metadata": {},
   "source": [
    "# Stabilities and accuracy in time. "
   ]
  },
  {
   "attachments": {},
   "cell_type": "markdown",
   "metadata": {},
   "source": [
    "test"
   ]
  },
  {
   "cell_type": "markdown",
   "metadata": {},
   "source": [
    "Lets consider same setup as in [ex_3a](https://github.com/AST-Course/AST5110/blob/main/ex_3a.ipynb) Burgers’ equation, i.e.,\n",
    "\n",
    "$$\\frac{\\partial u}{\\partial t} + u \\frac{\\partial u}{\\partial x} = 0   \\tag{1}$$ \n",
    "\n",
    "for the domain $x \\in (x_0, x_f)$ with $x_0 = −1.4$, $x_f = 2.0$ with initial condition:\n",
    "\n",
    "$$u(x,t=0) = A\\left[\\tanh\\left(\\frac{x+x_c}{W}\\right)-\\tanh\\left(\\frac{x-x_c}{W}\\right)\\right]   \\tag{2}$$\n",
    "\n",
    "whereby $A = 0.02$ , $x_c = 0.70$, $W = 0.1$. Let the solution evolve until time $t_f = 100$. Explain in physical (or mathematical) terms the solution you get. However, let's now implement a new time-step method. \n",
    "\n",
    "Add the following method to your library and run the previous simulation. \n",
    "\n",
    "$$u^{n+1}_j = \\frac{1}{2}(u^n_{j+1} + u^n_{j-1}) - \\frac{v \\Delta t}{2 \\Delta x}(u^n_{j+1} - u^n_{j-1})$$\n",
    "\n",
    "Apply von Neumann stability analysis to the expression above. The stability condition $|\\xi(k)|^2 \\leq 1$ leads to the famous Courant-Friedrichs-Lewy (CFL) stability. \n",
    "\n",
    "Add this to your library and solve the previous simulation imposing the CFL condition. For this exercise, fill in `nm_lib` the function `evolv_Lax_uadv_burgers`. "
   ]
  },
  {
   "cell_type": "code",
   "execution_count": null,
   "metadata": {},
   "outputs": [],
   "source": [
    "import numpy as np \n",
    "import matplotlib.pyplot as plt \n",
    "from nm_lib import nm_lib as nm\n",
    "from matplotlib.animation import FuncAnimation\n",
    "from IPython.display import HTML"
   ]
  },
  {
   "cell_type": "code",
   "execution_count": null,
   "metadata": {},
   "outputs": [],
   "source": [
    "def initial_u(xx):\n",
    "\n",
    "    r\"\"\"\n",
    "    Return the initial condition\n",
    "    \n",
    "    Requires\n",
    "    ----------\n",
    "    Numpy\n",
    "\n",
    "    Parameters\n",
    "    ----------\n",
    "    x : `array`\n",
    "        Spatial array\n",
    "\n",
    "    Returns\n",
    "    ------- \n",
    "    u_0(xx) : `array`\n",
    "            Initial condition of u(x)\n",
    "        \n",
    "    \"\"\"\n",
    "\n",
    "    A = 0.02\n",
    "    x_c = 0.7\n",
    "    W = 0.1\n",
    "\n",
    "    return A*(np.tanh((x+x_c)/W) - np.tanh((x-x_c)/W))"
   ]
  },
  {
   "attachments": {},
   "cell_type": "markdown",
   "metadata": {},
   "source": [
    "<!-- Eq.1 is the inviscid form of Burger's equation, which is a type of conservation equation. When evolving the solution in time, we see the edges are smoothed out.   -->"
   ]
  },
  {
   "attachments": {},
   "cell_type": "markdown",
   "metadata": {},
   "source": [
    "________"
   ]
  },
  {
   "attachments": {},
   "cell_type": "markdown",
   "metadata": {},
   "source": [
    "We implement the new time-step method:\n",
    "\n",
    "$$\\tag{3}\n",
    "u^{n+1}_j = \\frac{1}{2}(u^n_{j+1} + u^n_{j-1}) - \\frac{v \\Delta t}{2 \\Delta x}(u^n_{j+1} - u^n_{j-1})\n",
    "$$"
   ]
  },
  {
   "attachments": {},
   "cell_type": "markdown",
   "metadata": {},
   "source": [
    "Before implementing the method in our library, we apply the von Neumann stability analysis by substituting $u_j^{n} = \\xi^n e^{ikj\\Delta x}$. In order to have the CFL stability, the function must fulfill: $|\\xi(k)|^2 \\leq 1$. \n",
    "\n"
   ]
  },
  {
   "attachments": {},
   "cell_type": "markdown",
   "metadata": {},
   "source": [
    "We start by writing out Eq.1 with our substitution: $u_j^{n} = \\xi^n e^{ikj\\Delta x}$: \n",
    "\n",
    "$$\n",
    "\\xi^{n+1}e^{ikj\\Delta x} = \\frac{1}{2}\\left( \\xi^n e^{ik(j+1)\\Delta x} + \\xi^n e^{ik(j-1)\\Delta x}   \\right) - \\frac{v\\Delta t}{2\\Delta x} \\left( \\xi^n e^{ik(j+1)\\Delta x} - \\xi^n e^{ik(j-1)\\Delta x}   \\right)\n",
    "$$"
   ]
  },
  {
   "attachments": {},
   "cell_type": "markdown",
   "metadata": {},
   "source": [
    "We can then split up the exponential functions and cancel common factors on each side. \n",
    "\n",
    "$$\\tag{3.1}\n",
    "\\xi^{n+1}e^{ikj\\Delta x} = \\frac{1}{2}\\left( \\xi^n e^{ikj\\Delta x}e^{ik\\Delta x} + \\xi^n e^{ik(j)\\Delta x}e^{-ik\\Delta x}   \\right) - \\frac{v\\Delta t}{2\\Delta x} \\left( \\xi^n e^{ikj\\Delta x}e^{ik\\Delta x} - \\xi^n e^{ikj\\Delta x}e^{-ik\\Delta x}   \\right)\n",
    "$$"
   ]
  },
  {
   "attachments": {},
   "cell_type": "markdown",
   "metadata": {},
   "source": [
    "Cancelling the common factor $e^{ikj\\Delta x}$ we are left with:"
   ]
  },
  {
   "attachments": {},
   "cell_type": "markdown",
   "metadata": {},
   "source": [
    "$$\\tag{3.2}\n",
    "\\xi^{n+1} = \\frac{1}{2}\\left( \\xi^n e^{ik\\Delta x} + \\xi^n e^{-ik\\Delta x}   \\right) - \\frac{v\\Delta t}{2\\Delta x} \\left( \\xi^n e^{ik\\Delta x} - \\xi^n e^{-ik\\Delta x}   \\right)\n",
    "$$"
   ]
  },
  {
   "attachments": {},
   "cell_type": "markdown",
   "metadata": {},
   "source": [
    "We can also rewrite the left-hand-side as $\\xi^{n+1}e^{ikj\\Delta x} = \\xi^{n}\\xi e^{ikj\\Delta x}$. By cancelling the common factor $\\xi^n$ we are left with:"
   ]
  },
  {
   "attachments": {},
   "cell_type": "markdown",
   "metadata": {},
   "source": [
    "$$\\tag{3.3}\n",
    "\\xi = \\frac{1}{2}\\left( e^{ik\\Delta x} +  e^{-ik\\Delta x}   \\right) - \\frac{v\\Delta t}{2\\Delta x} \\left(  e^{ik\\Delta x} -  e^{-ik\\Delta x}   \\right)\n",
    "$$"
   ]
  },
  {
   "attachments": {},
   "cell_type": "markdown",
   "metadata": {},
   "source": [
    "To simplify and cancel out more terms in Eq.3.3, we use the *Euler's formula* which applies to the exponential functions: \n",
    "\n",
    "$$\n",
    "e^{ \\pm i\\theta } = \\cos \\theta \\pm i\\sin \\theta\n",
    "$$"
   ]
  },
  {
   "attachments": {},
   "cell_type": "markdown",
   "metadata": {},
   "source": [
    "Applying the Euler's formula, we can rewrite Eq.3.3 as"
   ]
  },
  {
   "attachments": {},
   "cell_type": "markdown",
   "metadata": {},
   "source": [
    "$$\\tag{3.4}\n",
    "\\xi = \\frac{1}{2} \\left(  \\cos(k\\Delta x) + i\\sin(k\\Delta x) + \\cos(k\\Delta x) - i\\sin(k\\Delta x)  \\right) - \\frac{v\\Delta t}{2\\Delta x} \\left( \\cos(k\\Delta x) + i\\sin(k\\Delta x) - (\\cos(k\\Delta x) - i\\sin(k\\Delta x))  \\right)\\\\\n",
    "= \\cos(k\\Delta x) - \\frac{v\\Delta t}{\\Delta x} i\\sin(k\\Delta x)\n",
    "$$"
   ]
  },
  {
   "attachments": {},
   "cell_type": "markdown",
   "metadata": {},
   "source": [
    "In Eq.3.4 we now have our simplified version of Eq.3, which we can use for the stability condition $|\\xi(k)|^2 \\leq 1$. We compute $|\\xi(k)|^2$ by finding the square of the right-hand-side of Eq.3.4, using the complex conjugate:"
   ]
  },
  {
   "attachments": {},
   "cell_type": "markdown",
   "metadata": {},
   "source": [
    "$$\\tag{4}\n",
    "|\\xi(k)|^2 = \\left(  \\frac{v\\Delta t}{\\Delta x} \\right)^2 \\sin^2 (k\\Delta x) + \\cos^2(k\\Delta x)\n",
    "$$"
   ]
  },
  {
   "attachments": {},
   "cell_type": "markdown",
   "metadata": {},
   "source": [
    "Using the *Pythagorean identity*, we can rewrite the cosine term, and hence Eq.4 becomes "
   ]
  },
  {
   "attachments": {},
   "cell_type": "markdown",
   "metadata": {},
   "source": [
    "$$\\tag{4.1}\n",
    "|\\xi(k)|^2 = \\left(  \\frac{v\\Delta t}{\\Delta x} \\right)^2 \\sin^2 (k\\Delta x) + 1 +\\sin^2(k\\Delta x)\\\\\n",
    "= \\left( \\left( \\frac{v\\Delta t}{\\Delta x}  \\right)^2 -1 \\right)\\sin^2(k \\Delta x) + 1\n",
    "$$"
   ]
  },
  {
   "attachments": {},
   "cell_type": "markdown",
   "metadata": {},
   "source": [
    "Since we want to check the stability condition $|\\xi(k)|^2 \\leq 1$, we use that $\\sin^2 (k \\Delta x) \\leq 1$, meaning we get the inequality"
   ]
  },
  {
   "attachments": {},
   "cell_type": "markdown",
   "metadata": {},
   "source": [
    "$$\\tag{4.2}\n",
    "|\\xi(k)|^2 \\leq \\left( \\left( \\frac{v\\Delta t}{\\Delta x}  \\right)^2 -1 \\right) + 1\\\\\n",
    "= \\left( \\frac{v\\Delta t}{\\Delta x}  \\right)^2 \n",
    "$$"
   ]
  },
  {
   "attachments": {},
   "cell_type": "markdown",
   "metadata": {},
   "source": [
    "From Eq.4.2 we can therefore write \n",
    "\n",
    "$$\n",
    "\\left( \\frac{v\\Delta t}{\\Delta x}  \\right)^2 \\leq 1 \\implies \\Delta t \\leq \\frac{\\Delta x}{v}\n",
    "$$"
   ]
  },
  {
   "attachments": {},
   "cell_type": "markdown",
   "metadata": {},
   "source": [
    "This shows our criteria for applying the CFL stability condition in our methods. We add this together with the method in Eq.3 in `nm_lib`, and use it to solve the previous simulation. For the simulation we use the same initial condition, `u0`, and spatial array `x`."
   ]
  },
  {
   "cell_type": "code",
   "execution_count": null,
   "metadata": {},
   "outputs": [],
   "source": [
    "nint = 128\n",
    "nump = nint+1\n",
    "x0 = -1.4\n",
    "xf = 2\n",
    "\n",
    "x = np.linspace(x0,xf, nump)\n",
    "u0 = initial_u(x)\n",
    "\n",
    "nt = 200\n",
    "a = -1\n",
    "\n",
    "t, un = nm.evolv_Lax_uadv_burgers(x, u0, nt, ddx = nm.deriv_cent, bnd_limits=[1,1])"
   ]
  },
  {
   "cell_type": "code",
   "execution_count": null,
   "metadata": {},
   "outputs": [],
   "source": [
    "plt.ioff()\n",
    "\n",
    "fig, axes = plt.subplots(nrows=1, ncols=1, figsize=(10, 5))\n",
    "\n",
    "def init(): \n",
    "    axes.plot(x,un[:,0])\n",
    "\n",
    "def animate(i):\n",
    " \n",
    "    axes.clear()\n",
    "    # axes.plot(x,un[:,::10][:,i])\n",
    "    axes.plot(x,un[:,i])\n",
    "    axes.set_title('t=%.2f'%t[i])\n",
    "    axes.set_xlabel(\"x\")\n",
    "    axes.set_ylabel(\"u_i\")\n",
    "    axes.grid()\n",
    "    \n",
    "anim = FuncAnimation(fig, animate, interval=50, frames=nt, init_func=init)\n",
    "HTML(anim.to_jshtml())"
   ]
  },
  {
   "cell_type": "code",
   "execution_count": null,
   "metadata": {},
   "outputs": [],
   "source": [
    "plt.close()"
   ]
  },
  {
   "attachments": {},
   "cell_type": "markdown",
   "metadata": {},
   "source": [
    "In the animation above we show the simulation using the LAX method with the CFL stability condition. Eq.1 is known as the *inviscid* Burger's equation, which is known as a type of equation that can develop discontinuities, or shock waves. It seems as this is what we observe in the animation above, where we end up with a discontinuous wave shape that travels to the right. I think the shock wave is what we see as the vertical \"wall\" in the wave shape. "
   ]
  },
  {
   "cell_type": "markdown",
   "metadata": {},
   "source": [
    "## 1- Diffusive. \n",
    "\n",
    "Redo the exercise [ex_2b](https://github.com/AST-Course/AST5110/blob/main/ex_2b.ipynb) and compare the two methods, i.e., one from \n",
    "[ex_2b](https://github.com/AST-Course/AST5110/blob/main/ex_2b.ipynb) and the Lax-Method. \n",
    "\n",
    "Which one is more diffusive? Why? Rewrite Lax-method, so the right-hand side is as follows: \n",
    "\n",
    "$$\\frac{u^{n+1}-u^{n}}{\\Delta t} = ...$$\n",
    "\n",
    "What is the reminder term look like? Is the order of convergence the same for the two methods? "
   ]
  },
  {
   "cell_type": "code",
   "execution_count": null,
   "metadata": {},
   "outputs": [],
   "source": [
    "nint = 128\n",
    "nump = nint+1\n",
    "x0 = -1.4\n",
    "xf = 2\n",
    "\n",
    "x = np.linspace(x0,xf, nump)\n",
    "u0 = initial_u(x)\n",
    "\n",
    "nt = 2000\n",
    "a = -1\n",
    "\n",
    "t_up, un_up = nm.evolv_uadv_burgers(x, u0, nt, ddx = nm.deriv_upw, bnd_limits=[1,0])\n",
    "t, un = nm.evolv_Lax_uadv_burgers(x, u0, nt, ddx = nm.deriv_cent, bnd_limits=[1,0])\n",
    "\n",
    "same = t_up.reshape(len(t_up),1) - t\n",
    "same2 = np.where(np.abs(same)<0.5)\n"
   ]
  },
  {
   "cell_type": "code",
   "execution_count": null,
   "metadata": {},
   "outputs": [],
   "source": [
    "plt.ioff()\n",
    "\n",
    "fig, axes = plt.subplots(nrows=1, ncols=1, figsize=(10, 5))\n",
    "\n",
    "def init(): \n",
    "    axes.plot(x,un_up[:,0])\n",
    "\n",
    "def animate(i):\n",
    " \n",
    "    axes.clear()\n",
    "    axes.plot(x,un_up[:,::10][:,i], label=\"upwind\")\n",
    "    axes.set_title('t=%.2f'%t_up[::10][i])\n",
    "    axes.legend()\n",
    "    axes.set_xlabel(\"x\")\n",
    "    axes.set_ylabel(\"u_i\")\n",
    "    axes.grid()\n",
    "    \n",
    "anim = FuncAnimation(fig, animate, interval=50, frames=len(t_up[::10]), init_func=init)\n",
    "HTML(anim.to_jshtml())"
   ]
  },
  {
   "cell_type": "code",
   "execution_count": null,
   "metadata": {},
   "outputs": [],
   "source": [
    "plt.close()"
   ]
  },
  {
   "cell_type": "code",
   "execution_count": null,
   "metadata": {},
   "outputs": [],
   "source": [
    "plt.ioff()\n",
    "\n",
    "fig, axes = plt.subplots(nrows=1, ncols=1, figsize=(10, 5))\n",
    "\n",
    "def init(): \n",
    "    axes.plot(x,un[:,0])\n",
    "\n",
    "def animate(i):\n",
    " \n",
    "    axes.clear()\n",
    "    axes.plot(x,un[:,::10][:,i], label=\"LAX\")\n",
    "    axes.set_title('t=%.2f'%t[::10][i])\n",
    "    axes.legend()\n",
    "    axes.set_xlabel(\"x\")\n",
    "    axes.set_ylabel(\"u_i\")\n",
    "    axes.grid()\n",
    "    \n",
    "anim = FuncAnimation(fig, animate, interval=50, frames=len(t[::10]), init_func=init)\n",
    "HTML(anim.to_jshtml())"
   ]
  },
  {
   "cell_type": "code",
   "execution_count": null,
   "metadata": {},
   "outputs": [],
   "source": [
    "plt.close()"
   ]
  },
  {
   "cell_type": "code",
   "execution_count": null,
   "metadata": {},
   "outputs": [],
   "source": [
    "plt.ioff()\n",
    "\n",
    "fig, axes = plt.subplots(nrows=1, ncols=1, figsize=(10, 5))\n",
    "\n",
    "def init(): \n",
    "    axes.plot(x,un[:,0])\n",
    "    axes.plot(x,un_up[:,0])\n",
    "\n",
    "def animate(i):\n",
    " \n",
    "    axes.clear()\n",
    "    axes.plot(x,un[:,same2[1]][:,::10][:,i], label=\"LAX\")\n",
    "    axes.plot(x,un_up[:,same2[0]][:,::10][:,i],label=\"upwind\")\n",
    "    axes.set_title('t=%.2f'%t[same2[1]][::10][i])\n",
    "    axes.legend()\n",
    "    axes.set_xlabel(\"x\")\n",
    "    axes.set_ylabel(\"u_i\")\n",
    "    axes.grid()\n",
    "    \n",
    "anim = FuncAnimation(fig, animate, interval=50, frames=len(t[same2[1]][::10]), init_func=init)\n",
    "HTML(anim.to_jshtml())"
   ]
  },
  {
   "cell_type": "code",
   "execution_count": null,
   "metadata": {},
   "outputs": [],
   "source": [
    "plt.close()"
   ]
  },
  {
   "attachments": {},
   "cell_type": "markdown",
   "metadata": {},
   "source": [
    "From the animation above, we see that the upwind scheme is the most diffusive one, as the amplitude is decreasing a lot faster than for the LAX method. To understand why, we rewrite the LAX-method so that the left-hand-side is the time derivative of $u$. "
   ]
  },
  {
   "attachments": {},
   "cell_type": "markdown",
   "metadata": {},
   "source": [
    "Starting with the LAX method: \n",
    "$$u^{n+1}_j = \\frac{1}{2}(u^n_{j+1} + u^n_{j-1}) - \\frac{v \\Delta t}{2 \\Delta x}(u^n_{j+1} - u^n_{j-1})$$\n",
    "\n",
    "We now subtract $u_j^n$ from each side\n",
    "\n",
    "$$\n",
    "u_{j}^{n+1} - u_j^n = \\frac{1}{2} \\left(  u_{j+1}^n + u_{j-1}^n \\right) - u_j^n -\\frac{v\\Delta t}{2\\Delta x} \\left( u_{j+1}^n - u_{j-1}^n  \\right),\n",
    "$$\n",
    "\n",
    "and divide by $\\Delta t$\n",
    "\n",
    "$$\n",
    "\\frac{u_{j}^{n+1} - u_j^n}{\\Delta t} = \\frac{\\left(  u_{j+1}^n + u_{j-1}^n \\right)}{2\\Delta t} - \\frac{u_j^n}{\\Delta t} - \\frac{v}{2\\Delta x} \\left( u_{j+1}^n - u_{j-1}^n.  \\right)\n",
    "$$\n",
    "\n",
    "<!-- We can split up the $\\frac{u_j^n}{\\Delta t}$ term into two halfs, and subtract on half from each of the terms in $\\frac{\\left(  u_{j+1}^n + u_{j-1}^n \\right)}{2\\Delta t}$. This then becomes\n",
    "\n",
    "$$\n",
    "\\frac{u_{j}^{n+1} - u_j^n}{\\Delta t} =  \\frac{\\left(  u_{j+1}^n - u_{j}^n \\right)}{2\\Delta t} +  \\frac{\\left(  u_{j+1}^n - u_{j}^n \\right)}{2\\Delta t} - \\frac{v}{2\\Delta x} \\left( u_{j+1}^n - u_{j-1}^n \\right)\n",
    "$$ -->\n",
    "\n",
    "We can then gather the first three terms on the right-hand-side\n",
    "\n",
    "$$\n",
    "\\frac{u_{j}^{n+1} - u_j^n}{\\Delta t} = \\frac{\\Delta x^2 }{2\\Delta t}\\frac{\\left(  u_{j+1}^n + u_{j-1}^n -2u_j^n \\right)}{\\Delta x^2} - \\frac{v}{2\\Delta x} \\left( u_{j+1}^n - u_{j-1}^n \\right),\n",
    "$$\n",
    "\n",
    "where we also multiplied and divided the gathered term with $\\Delta x^2$. The term $\\frac{\\left(  u_{j+1}^n + u_{j-1}^n -2u_j^n \\right)}{\\Delta x^2}$ can be recognized as the second order spatial derivative of $u$. By also recognizing that the right-hand-side of the equation is the time derivative of $u$, while $\\frac{1}{\\Delta x} \\left( u_{j+1}^n - u_{j-1}^n \\right)$ is the first order spatial derivative of $u$ using centered finite differences, we can write the equation as\n",
    "\n",
    "$$\n",
    "\\frac{\\partial u}{\\partial t} = \\frac{\\Delta x^2}{2\\Delta t} \\frac{\\partial^2 u}{\\partial^2 x} - v\\frac{\\partial u}{\\partial x}\n",
    "$$"
   ]
  },
  {
   "attachments": {},
   "cell_type": "markdown",
   "metadata": {},
   "source": [
    "We set $\\frac{\\Delta x^2}{2\\Delta t} \\equiv \\nu$ and swap $v = u$. With this, we end up with:\n",
    "\n",
    "$$\n",
    "\\frac{\\partial u}{\\partial t} = \\nu \\frac{\\partial^2 u}{\\partial^2 x} - u\\frac{\\partial u}{\\partial x},\n",
    "$$\n",
    "\n",
    "which we can rewrite into the full Burger's equation\n",
    "\n",
    "$$\n",
    "\\frac{\\partial u}{\\partial t} +  u\\frac{\\partial u}{\\partial x} = \\nu \\frac{\\partial^2 u}{\\partial^2 x}.\n",
    "$$\n"
   ]
  },
  {
   "attachments": {},
   "cell_type": "markdown",
   "metadata": {},
   "source": [
    "From this, we can tell that the LAX method has an extra viscosity term, making it more resistance to diffusion than the upwind scheme. Therefore, the updwind scheme is more diffusive, which we see from how much faster it sinks in the animation."
   ]
  },
  {
   "cell_type": "markdown",
   "metadata": {},
   "source": [
    "---\n",
    "\n",
    "(\\*) Equation (1) is, in fact, a shortened version of the full Burgers’ equation, which contains a viscosity term on the right-hand side, as follows:\n",
    "$$\\frac{\\partial u}{\\partial t} + u \\frac{\\partial u}{\\partial x} = \\nu \\frac{\\partial^2 u}{\\partial x^2}.$$"
   ]
  }
 ],
 "metadata": {
  "kernelspec": {
   "display_name": "Python 3 (ipykernel)",
   "language": "python",
   "name": "python3"
  },
  "language_info": {
   "codemirror_mode": {
    "name": "ipython",
    "version": 3
   },
   "file_extension": ".py",
   "mimetype": "text/x-python",
   "name": "python",
   "nbconvert_exporter": "python",
   "pygments_lexer": "ipython3",
   "version": "3.9.6"
  },
  "vscode": {
   "interpreter": {
    "hash": "e3ec12b9c70088f059f3baea05772a3a2c2889530d91a5824627bd51d661a52e"
   }
  }
 },
 "nbformat": 4,
 "nbformat_minor": 4
}
